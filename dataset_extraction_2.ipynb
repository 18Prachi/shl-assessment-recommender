{
 "cells": [
  {
   "cell_type": "code",
   "execution_count": 32,
   "id": "601a6b52-e359-45df-a1a9-4995d17b0672",
   "metadata": {},
   "outputs": [
    {
     "name": "stderr",
     "output_type": "stream",
     "text": [
      "100%|████████████████████████████████████████████████████████████████████████████████| 441/441 [29:36<00:00,  4.03s/it]\n"
     ]
    },
    {
     "name": "stdout",
     "output_type": "stream",
     "text": [
      "✅ Saved: shl_enriched_catalog.csv\n"
     ]
    }
   ],
   "source": [
    "import re\n",
    "import pandas as pd\n",
    "from selenium import webdriver\n",
    "from selenium.webdriver.chrome.options import Options\n",
    "from bs4 import BeautifulSoup\n",
    "from tqdm import tqdm\n",
    "import time\n",
    "\n",
    "# --- Setup Selenium in headless mode ---\n",
    "options = Options()\n",
    "options.add_argument(\"--headless=new\")  # better compatibility with Chrome 115+\n",
    "driver = webdriver.Chrome(options=options)\n",
    "\n",
    "# --- Load CSV ---\n",
    "df = pd.read_csv(\"shl_full_catalog.csv\")\n",
    "\n",
    "# Add empty columns\n",
    "df[\"description\"] = \"\"\n",
    "df[\"duration\"] = \"\"\n",
    "\n",
    "# --- Loop through all rows ---\n",
    "for idx, row in tqdm(df.iterrows(), total=len(df)):\n",
    "    url = row['Link']\n",
    "    try:\n",
    "        driver.get(url)\n",
    "        time.sleep(2.5)  # wait for content to load\n",
    "\n",
    "        soup = BeautifulSoup(driver.page_source, 'html.parser')\n",
    "\n",
    "        # Look through content blocks\n",
    "        content_blocks = soup.find_all(\"div\", class_=\"product-catalogue-training-calendar__row\")\n",
    "        description = \"\"\n",
    "        duration = \"\"\n",
    "\n",
    "        for block in content_blocks:\n",
    "            title_tag = block.find(\"h4\")\n",
    "            if not title_tag:\n",
    "                continue\n",
    "            title = title_tag.get_text(strip=True).lower()\n",
    "\n",
    "            value_tag = block.find(\"p\")\n",
    "            value = value_tag.get_text(strip=True) if value_tag else \"\"\n",
    "\n",
    "            if \"description\" in title:\n",
    "                description = value\n",
    "            elif \"assessment length\" in title:\n",
    "                match = re.search(r'\\d+', value)\n",
    "                if match:\n",
    "                    duration = f\"{match.group()} minutes\"\n",
    "                else:\n",
    "                    duration = value\n",
    "\n",
    "        # Save to DataFrame\n",
    "        df.at[idx, \"description\"] = description\n",
    "        df.at[idx, \"duration\"] = duration or \"Unknown\"\n",
    "\n",
    "    except Exception as e:\n",
    "        print(f\"❌ Failed to process {url}: {e}\")\n",
    "        df.at[idx, \"description\"] = \"\"\n",
    "        df.at[idx, \"duration\"] = \"Unknown\"\n",
    "\n",
    "# --- Save updated CSV ---\n",
    "df.to_csv(\"shl_enriched_catalog.csv\", index=False)\n",
    "driver.quit()\n",
    "print(\"✅ Saved: shl_enriched_catalog.csv\")\n"
   ]
  },
  {
   "cell_type": "code",
   "execution_count": null,
   "id": "694200a6-a2e0-446b-8e28-2a43016c0137",
   "metadata": {},
   "outputs": [],
   "source": []
  }
 ],
 "metadata": {
  "kernelspec": {
   "display_name": "Python [conda env:base] *",
   "language": "python",
   "name": "conda-base-py"
  },
  "language_info": {
   "codemirror_mode": {
    "name": "ipython",
    "version": 3
   },
   "file_extension": ".py",
   "mimetype": "text/x-python",
   "name": "python",
   "nbconvert_exporter": "python",
   "pygments_lexer": "ipython3",
   "version": "3.12.7"
  }
 },
 "nbformat": 4,
 "nbformat_minor": 5
}
