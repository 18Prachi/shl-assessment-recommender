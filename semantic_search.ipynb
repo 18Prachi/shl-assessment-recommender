{
 "cells": [
  {
   "cell_type": "code",
   "execution_count": 2,
   "id": "1c4eb35e-bb97-49ea-9c50-eabe897512a0",
   "metadata": {},
   "outputs": [
    {
     "name": "stdout",
     "output_type": "stream",
     "text": [
      "Processed Query Text: looking for a behavioral test for mid-level managers\n"
     ]
    }
   ],
   "source": [
    "import re\n",
    "import requests\n",
    "from bs4 import BeautifulSoup\n",
    "from sentence_transformers import SentenceTransformer\n",
    "\n",
    "model = SentenceTransformer('all-MiniLM-L6-v2')  # Already loaded earlier\n",
    "\n",
    "def extract_text_from_url(url: str) -> str:\n",
    "    \"\"\"Extracts visible text from a JD page.\"\"\"\n",
    "    try:\n",
    "        res = requests.get(url, timeout=5)\n",
    "        soup = BeautifulSoup(res.content, 'html.parser')\n",
    "        paragraphs = soup.find_all(\"p\")\n",
    "        text = \" \".join(p.get_text(strip=True) for p in paragraphs if p.get_text(strip=True))\n",
    "        return text\n",
    "    except Exception as e:\n",
    "        print(f\"Error extracting from URL: {e}\")\n",
    "        return \"\"\n",
    "\n",
    "def process_input(input_text: str) -> str:\n",
    "    \"\"\"Detects whether it's a URL or query and returns clean text.\"\"\"\n",
    "    if re.match(r'^https?://', input_text):\n",
    "        return extract_text_from_url(input_text)\n",
    "    return input_text\n",
    "\n",
    "def get_query_embedding(text: str):\n",
    "    return model.encode([text])\n",
    "query = \"looking for a behavioral test for mid-level managers\"\n",
    "processed_text = process_input(query)\n",
    "print(\"Processed Query Text:\", processed_text)\n"
   ]
  },
  {
   "cell_type": "code",
   "execution_count": 4,
   "id": "b5597cff-c6ed-449c-983d-fec3d951ad9f",
   "metadata": {},
   "outputs": [
    {
     "name": "stdout",
     "output_type": "stream",
     "text": [
      "Query embedding shape: (1, 384)\n"
     ]
    }
   ],
   "source": [
    "embedding = get_query_embedding(processed_text)\n",
    "print(\"Query embedding shape:\", embedding.shape)"
   ]
  },
  {
   "cell_type": "code",
   "execution_count": 10,
   "id": "8f6138d5-7d33-4e09-9983-d3de80b44060",
   "metadata": {},
   "outputs": [],
   "source": [
    "import pandas as pd\n",
    "import numpy as np\n",
    "from sklearn.metrics.pairwise import cosine_similarity\n",
    "\n",
    "# Load your enriched catalog and precomputed embeddings\n",
    "catalog_df = pd.read_csv(\"shl_enriched_catalog.csv\")\n",
    "embeddings = np.load(\"shl_embeddings.npy\")  # assuming you saved them as .npy\n",
    "\n",
    "def recommend(query_text: str, top_n: int = 5):\n",
    "    # Process input (query or JD URL)\n",
    "    cleaned_text = process_input(query_text)\n",
    "    \n",
    "    # Generate query embedding\n",
    "    query_embedding = get_query_embedding(cleaned_text)\n",
    "    \n",
    "    # Compute similarity scores\n",
    "    scores = cosine_similarity(query_embedding, embeddings)[0]\n",
    "    \n",
    "    # Get top-N indices\n",
    "    top_indices = np.argsort(scores)[::-1][:top_n]\n",
    "    \n",
    "    # Extract relevant rows\n",
    "    results = catalog_df.iloc[top_indices].copy()\n",
    "    results[\"similarity\"] = scores[top_indices]\n",
    "    \n",
    "    # Clean columns\n",
    "    results = results[[\n",
    "        \"Test Name\", \"Link\", \"Remote Testing\", \"Adaptive/IRT\", \n",
    "        \"duration\", \"Test Types\", \"similarity\"\n",
    "    ]]\n",
    "    \n",
    "    # Optional: round similarity scores\n",
    "    results[\"similarity\"] = results[\"similarity\"].round(3)\n",
    "\n",
    "    return results.reset_index(drop=True)\n",
    "\n"
   ]
  },
  {
   "cell_type": "code",
   "execution_count": 12,
   "id": "b4867c0c-0d8f-4d13-a434-8acaa5e5fd27",
   "metadata": {},
   "outputs": [
    {
     "name": "stdout",
     "output_type": "stream",
     "text": [
      "                         Test Name  \\\n",
      "0            Human Resources (New)   \n",
      "1                 Manager 8.0+ JFA   \n",
      "2  Customer Service Phone Solution   \n",
      "3                  Manager 8.0 JFA   \n",
      "4           Time Management (U.S.)   \n",
      "\n",
      "                                                Link Remote Testing  \\\n",
      "0  https://www.shl.com/solutions/products/product...            Yes   \n",
      "1  https://www.shl.com/solutions/products/product...            Yes   \n",
      "2  https://www.shl.com/solutions/products/product...            Yes   \n",
      "3  https://www.shl.com/solutions/products/product...            Yes   \n",
      "4  https://www.shl.com/solutions/products/product...            Yes   \n",
      "\n",
      "  Adaptive/IRT    duration Test Types  similarity  \n",
      "0           No   8 minutes          K       0.562  \n",
      "1           No  44 minutes    B, K, P       0.522  \n",
      "2           No  30 minutes    B, P, S       0.513  \n",
      "3           No  26 minutes    B, K, P       0.510  \n",
      "4          Yes  15 minutes          K       0.505  \n"
     ]
    }
   ],
   "source": [
    "results_df = recommend(\"behavioral test for mid-level managers\")\n",
    "print(results_df)\n"
   ]
  },
  {
   "cell_type": "code",
   "execution_count": null,
   "id": "3c6109af-b2b6-4d73-a645-cb1d2e018ac7",
   "metadata": {},
   "outputs": [],
   "source": []
  }
 ],
 "metadata": {
  "kernelspec": {
   "display_name": "Python [conda env:base] *",
   "language": "python",
   "name": "conda-base-py"
  },
  "language_info": {
   "codemirror_mode": {
    "name": "ipython",
    "version": 3
   },
   "file_extension": ".py",
   "mimetype": "text/x-python",
   "name": "python",
   "nbconvert_exporter": "python",
   "pygments_lexer": "ipython3",
   "version": "3.12.7"
  }
 },
 "nbformat": 4,
 "nbformat_minor": 5
}
